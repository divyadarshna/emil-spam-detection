{
 "cells": [
  {
   "cell_type": "code",
   "execution_count": 16,
   "id": "53f9a3cf",
   "metadata": {},
   "outputs": [],
   "source": [
    "import pandas as pd\n",
    "import numpy as np"
   ]
  },
  {
   "cell_type": "code",
   "execution_count": 17,
   "id": "b34f6dc1",
   "metadata": {},
   "outputs": [],
   "source": [
    "df = pd.read_csv('completeSpamAssassin.csv.zip', encoding='utf-8')\n"
   ]
  },
  {
   "cell_type": "code",
   "execution_count": 18,
   "id": "b036d0ed",
   "metadata": {},
   "outputs": [
    {
     "data": {
      "text/plain": [
       "(6046, 3)"
      ]
     },
     "execution_count": 18,
     "metadata": {},
     "output_type": "execute_result"
    }
   ],
   "source": [
    "df.shape"
   ]
  },
  {
   "cell_type": "code",
   "execution_count": 19,
   "id": "721fce75",
   "metadata": {},
   "outputs": [
    {
     "data": {
      "text/html": [
       "<div>\n",
       "<style scoped>\n",
       "    .dataframe tbody tr th:only-of-type {\n",
       "        vertical-align: middle;\n",
       "    }\n",
       "\n",
       "    .dataframe tbody tr th {\n",
       "        vertical-align: top;\n",
       "    }\n",
       "\n",
       "    .dataframe thead th {\n",
       "        text-align: right;\n",
       "    }\n",
       "</style>\n",
       "<table border=\"1\" class=\"dataframe\">\n",
       "  <thead>\n",
       "    <tr style=\"text-align: right;\">\n",
       "      <th></th>\n",
       "      <th>Unnamed: 0</th>\n",
       "      <th>Body</th>\n",
       "      <th>Label</th>\n",
       "    </tr>\n",
       "  </thead>\n",
       "  <tbody>\n",
       "    <tr>\n",
       "      <th>0</th>\n",
       "      <td>0</td>\n",
       "      <td>\\nSave up to 70% on Life Insurance.\\nWhy Spend...</td>\n",
       "      <td>1</td>\n",
       "    </tr>\n",
       "    <tr>\n",
       "      <th>1</th>\n",
       "      <td>1</td>\n",
       "      <td>1) Fight The Risk of Cancer!\\nhttp://www.adcli...</td>\n",
       "      <td>1</td>\n",
       "    </tr>\n",
       "    <tr>\n",
       "      <th>2</th>\n",
       "      <td>2</td>\n",
       "      <td>1) Fight The Risk of Cancer!\\nhttp://www.adcli...</td>\n",
       "      <td>1</td>\n",
       "    </tr>\n",
       "    <tr>\n",
       "      <th>3</th>\n",
       "      <td>3</td>\n",
       "      <td>##############################################...</td>\n",
       "      <td>1</td>\n",
       "    </tr>\n",
       "    <tr>\n",
       "      <th>4</th>\n",
       "      <td>4</td>\n",
       "      <td>I thought you might like these:\\n1) Slim Down ...</td>\n",
       "      <td>1</td>\n",
       "    </tr>\n",
       "  </tbody>\n",
       "</table>\n",
       "</div>"
      ],
      "text/plain": [
       "   Unnamed: 0                                               Body  Label\n",
       "0           0  \\nSave up to 70% on Life Insurance.\\nWhy Spend...      1\n",
       "1           1  1) Fight The Risk of Cancer!\\nhttp://www.adcli...      1\n",
       "2           2  1) Fight The Risk of Cancer!\\nhttp://www.adcli...      1\n",
       "3           3  ##############################################...      1\n",
       "4           4  I thought you might like these:\\n1) Slim Down ...      1"
      ]
     },
     "execution_count": 19,
     "metadata": {},
     "output_type": "execute_result"
    }
   ],
   "source": [
    "df.head()"
   ]
  },
  {
   "cell_type": "code",
   "execution_count": 20,
   "id": "caeb2174",
   "metadata": {},
   "outputs": [
    {
     "data": {
      "text/html": [
       "<div>\n",
       "<style scoped>\n",
       "    .dataframe tbody tr th:only-of-type {\n",
       "        vertical-align: middle;\n",
       "    }\n",
       "\n",
       "    .dataframe tbody tr th {\n",
       "        vertical-align: top;\n",
       "    }\n",
       "\n",
       "    .dataframe thead th {\n",
       "        text-align: right;\n",
       "    }\n",
       "</style>\n",
       "<table border=\"1\" class=\"dataframe\">\n",
       "  <thead>\n",
       "    <tr style=\"text-align: right;\">\n",
       "      <th></th>\n",
       "      <th>Unnamed: 0</th>\n",
       "      <th>Body</th>\n",
       "      <th>Label</th>\n",
       "    </tr>\n",
       "  </thead>\n",
       "  <tbody>\n",
       "    <tr>\n",
       "      <th>6041</th>\n",
       "      <td>6041</td>\n",
       "      <td>empty</td>\n",
       "      <td>0</td>\n",
       "    </tr>\n",
       "    <tr>\n",
       "      <th>6042</th>\n",
       "      <td>6042</td>\n",
       "      <td>___           ___           ...</td>\n",
       "      <td>0</td>\n",
       "    </tr>\n",
       "    <tr>\n",
       "      <th>6043</th>\n",
       "      <td>6043</td>\n",
       "      <td>IN THIS ISSUE:01. Readers write\\n02. Extension...</td>\n",
       "      <td>0</td>\n",
       "    </tr>\n",
       "    <tr>\n",
       "      <th>6044</th>\n",
       "      <td>6044</td>\n",
       "      <td>empty</td>\n",
       "      <td>0</td>\n",
       "    </tr>\n",
       "    <tr>\n",
       "      <th>6045</th>\n",
       "      <td>6045</td>\n",
       "      <td>empty</td>\n",
       "      <td>0</td>\n",
       "    </tr>\n",
       "  </tbody>\n",
       "</table>\n",
       "</div>"
      ],
      "text/plain": [
       "      Unnamed: 0                                               Body  Label\n",
       "6041        6041                                              empty      0\n",
       "6042        6042                    ___           ___           ...      0\n",
       "6043        6043  IN THIS ISSUE:01. Readers write\\n02. Extension...      0\n",
       "6044        6044                                              empty      0\n",
       "6045        6045                                              empty      0"
      ]
     },
     "execution_count": 20,
     "metadata": {},
     "output_type": "execute_result"
    }
   ],
   "source": [
    "df.tail()"
   ]
  },
  {
   "cell_type": "code",
   "execution_count": 21,
   "id": "d7c6c19e",
   "metadata": {},
   "outputs": [
    {
     "data": {
      "text/html": [
       "<div>\n",
       "<style scoped>\n",
       "    .dataframe tbody tr th:only-of-type {\n",
       "        vertical-align: middle;\n",
       "    }\n",
       "\n",
       "    .dataframe tbody tr th {\n",
       "        vertical-align: top;\n",
       "    }\n",
       "\n",
       "    .dataframe thead th {\n",
       "        text-align: right;\n",
       "    }\n",
       "</style>\n",
       "<table border=\"1\" class=\"dataframe\">\n",
       "  <thead>\n",
       "    <tr style=\"text-align: right;\">\n",
       "      <th></th>\n",
       "      <th>Unnamed: 0</th>\n",
       "      <th>Body</th>\n",
       "      <th>Label</th>\n",
       "    </tr>\n",
       "  </thead>\n",
       "  <tbody>\n",
       "    <tr>\n",
       "      <th>1527</th>\n",
       "      <td>1527</td>\n",
       "      <td>\\nA:link {\\n    TEXT-DECORATION: none\\n}\\nA:ac...</td>\n",
       "      <td>1</td>\n",
       "    </tr>\n",
       "    <tr>\n",
       "      <th>702</th>\n",
       "      <td>702</td>\n",
       "      <td>**********************************************...</td>\n",
       "      <td>1</td>\n",
       "    </tr>\n",
       "  </tbody>\n",
       "</table>\n",
       "</div>"
      ],
      "text/plain": [
       "      Unnamed: 0                                               Body  Label\n",
       "1527        1527  \\nA:link {\\n    TEXT-DECORATION: none\\n}\\nA:ac...      1\n",
       "702          702  **********************************************...      1"
      ]
     },
     "execution_count": 21,
     "metadata": {},
     "output_type": "execute_result"
    }
   ],
   "source": [
    "df.sample(2)"
   ]
  },
  {
   "cell_type": "code",
   "execution_count": 22,
   "id": "6db4be7e",
   "metadata": {},
   "outputs": [
    {
     "data": {
      "text/plain": [
       "Index(['Unnamed: 0', 'Body', 'Label'], dtype='object')"
      ]
     },
     "execution_count": 22,
     "metadata": {},
     "output_type": "execute_result"
    }
   ],
   "source": [
    "df.columns"
   ]
  },
  {
   "cell_type": "code",
   "execution_count": 23,
   "id": "30b83afc",
   "metadata": {},
   "outputs": [
    {
     "name": "stdout",
     "output_type": "stream",
     "text": [
      "<class 'pandas.core.frame.DataFrame'>\n",
      "RangeIndex: 6046 entries, 0 to 6045\n",
      "Data columns (total 3 columns):\n",
      " #   Column      Non-Null Count  Dtype \n",
      "---  ------      --------------  ----- \n",
      " 0   Unnamed: 0  6046 non-null   int64 \n",
      " 1   Body        6045 non-null   object\n",
      " 2   Label       6046 non-null   int64 \n",
      "dtypes: int64(2), object(1)\n",
      "memory usage: 141.8+ KB\n"
     ]
    }
   ],
   "source": [
    "df.info()"
   ]
  },
  {
   "cell_type": "code",
   "execution_count": 24,
   "id": "a799ef50",
   "metadata": {},
   "outputs": [
    {
     "data": {
      "text/plain": [
       "Unnamed: 0    0\n",
       "Body          1\n",
       "Label         0\n",
       "dtype: int64"
      ]
     },
     "execution_count": 24,
     "metadata": {},
     "output_type": "execute_result"
    }
   ],
   "source": [
    "df.isnull().sum()"
   ]
  },
  {
   "cell_type": "code",
   "execution_count": 25,
   "id": "463a5510",
   "metadata": {
    "scrolled": true
   },
   "outputs": [],
   "source": [
    "df = df.dropna(axis = 0, how = 'any')"
   ]
  },
  {
   "cell_type": "code",
   "execution_count": 26,
   "id": "7d01766c",
   "metadata": {},
   "outputs": [
    {
     "name": "stdout",
     "output_type": "stream",
     "text": [
      "<class 'pandas.core.frame.DataFrame'>\n",
      "Int64Index: 6045 entries, 0 to 6045\n",
      "Data columns (total 3 columns):\n",
      " #   Column      Non-Null Count  Dtype \n",
      "---  ------      --------------  ----- \n",
      " 0   Unnamed: 0  6045 non-null   int64 \n",
      " 1   Body        6045 non-null   object\n",
      " 2   Label       6045 non-null   int64 \n",
      "dtypes: int64(2), object(1)\n",
      "memory usage: 188.9+ KB\n"
     ]
    }
   ],
   "source": [
    "df.info()"
   ]
  },
  {
   "cell_type": "code",
   "execution_count": 27,
   "id": "bb2692cf",
   "metadata": {},
   "outputs": [
    {
     "data": {
      "text/plain": [
       "0    4150\n",
       "1    1895\n",
       "Name: Label, dtype: int64"
      ]
     },
     "execution_count": 27,
     "metadata": {},
     "output_type": "execute_result"
    }
   ],
   "source": [
    "df[\"Label\"].value_counts() #data is baised"
   ]
  },
  {
   "cell_type": "code",
   "execution_count": 28,
   "id": "3667e358",
   "metadata": {},
   "outputs": [
    {
     "data": {
      "text/plain": [
       "0       \\nSave up to 70% on Life Insurance.\\nWhy Spend...\n",
       "1       1) Fight The Risk of Cancer!\\nhttp://www.adcli...\n",
       "2       1) Fight The Risk of Cancer!\\nhttp://www.adcli...\n",
       "3       ##############################################...\n",
       "4       I thought you might like these:\\n1) Slim Down ...\n",
       "                              ...                        \n",
       "6041                                                empty\n",
       "6042                      ___           ___           ...\n",
       "6043    IN THIS ISSUE:01. Readers write\\n02. Extension...\n",
       "6044                                                empty\n",
       "6045                                                empty\n",
       "Name: Body, Length: 6045, dtype: object"
      ]
     },
     "execution_count": 28,
     "metadata": {},
     "output_type": "execute_result"
    }
   ],
   "source": [
    "df[\"Body\"] #data is baised"
   ]
  },
  {
   "cell_type": "code",
   "execution_count": 29,
   "id": "c620c087",
   "metadata": {},
   "outputs": [],
   "source": [
    "import matplotlib.pyplot as plt"
   ]
  },
  {
   "cell_type": "code",
   "execution_count": null,
   "id": "5860919e",
   "metadata": {},
   "outputs": [],
   "source": [
    "plt.pie(df['Label'].value_counts(), labels= ['spam','ham'], autopct= \"%.2f\")"
   ]
  },
  {
   "cell_type": "code",
   "execution_count": null,
   "id": "104f8fa8",
   "metadata": {},
   "outputs": [],
   "source": [
    "# no. of characters in the sms"
   ]
  },
  {
   "cell_type": "code",
   "execution_count": null,
   "id": "8d604431",
   "metadata": {},
   "outputs": [],
   "source": [
    "!pip install nltk"
   ]
  },
  {
   "cell_type": "code",
   "execution_count": null,
   "id": "5d749657",
   "metadata": {},
   "outputs": [],
   "source": [
    "import nltk"
   ]
  },
  {
   "cell_type": "code",
   "execution_count": null,
   "id": "54e797a9",
   "metadata": {},
   "outputs": [],
   "source": [
    "nltk.download('punkt')"
   ]
  },
  {
   "cell_type": "markdown",
   "id": "29f66a1e",
   "metadata": {},
   "source": [
    "# Data processing:\n",
    "\n",
    ". lower case\n",
    ". tokenization (break into words)\n",
    ". removing punctuation\n",
    ". removing special characters\n",
    ". stemmering"
   ]
  },
  {
   "cell_type": "code",
   "execution_count": null,
   "id": "85f9657c",
   "metadata": {},
   "outputs": [],
   "source": [
    "def trans_text(Body):\n",
    "    Body = Body.lower() # for coverting into lower case\n",
    "    Body = nltk.word_tokenize(Body) #for tokenizing: converting words into tokens\n",
    "    \n",
    "    y = []# for removing sp. characters\n",
    "    for i in Body:\n",
    "        if i.isalnum():\n",
    "            y.append(i)\n",
    "            \n",
    "    Body = y[:]# this is cloaning of the text, ootherwise it is going to return empty list\n",
    "    y.clear()\n",
    "    \n",
    "    for i in Body: # stemming part: converting words into root style.\n",
    "        if i not in stopwords.words('english') and i not in string.punctuation:\n",
    "            y.append(i)\n",
    "    \n",
    "    Body = y[:]\n",
    "    y.clear()\n",
    "    for i in Body:\n",
    "        y.append(ps.stem(i))\n",
    "        \n",
    "        \n",
    "    return\" \".join(y)"
   ]
  },
  {
   "cell_type": "code",
   "execution_count": null,
   "id": "49c071b0",
   "metadata": {},
   "outputs": [],
   "source": [
    "import re"
   ]
  },
  {
   "cell_type": "code",
   "execution_count": null,
   "id": "7078e112",
   "metadata": {},
   "outputs": [],
   "source": [
    "nltk.download('stopwords')"
   ]
  },
  {
   "cell_type": "code",
   "execution_count": null,
   "id": "e3698051",
   "metadata": {},
   "outputs": [],
   "source": [
    "from nltk.corpus import stopwords\n",
    "stopwords.words('english')"
   ]
  },
  {
   "cell_type": "code",
   "execution_count": null,
   "id": "e7eee0e7",
   "metadata": {},
   "outputs": [],
   "source": [
    "import string\n",
    "string.punctuation"
   ]
  },
  {
   "cell_type": "code",
   "execution_count": null,
   "id": "9450eff0",
   "metadata": {},
   "outputs": [],
   "source": [
    "from nltk.stem.porter import PorterStemmer\n",
    "ps = PorterStemmer()\n",
    "ps.stem('eating')"
   ]
  },
  {
   "cell_type": "code",
   "execution_count": null,
   "id": "7ff78b7b",
   "metadata": {},
   "outputs": [],
   "source": [
    "trans_text('Cellular Phone Accessories All At Below Wholesale Prices!http://202.101.163.34:81/sites/merchant/sales/Hands Free Ear Buds 1.99! \\nPhone Holsters 1.98! \\nBooster Antennas Only $0.99\\nPhone Cases 1.98! \\nCar Chargers 1.98! \\nFace Plates As Low As 0.99! \\nLithium Ion Batteries As Low As 6.94! http://202.101.163.34:81/sites/merchant/sales/Click Below For Accessories On All NOKIA, MOTOROLA LG, NEXTEL, \\nSAMSUNG, QUALCOMM, ERICSSON, AUDIOVOX PHONES At Below \\nWHOLESALE PRICES!http://202.101.163.34:81/sites/merchant/sales/***If You Need Assistance Please Call Us (732) 751-1457***\\n~~~~~~~~~~~~~~~~~~~~~~~~~~~~~~~~\\nTo be removed from future mailings please send your remove \\nrequest to: removemenow@btamail.net.cn \\nThank You and have a super day :)')"
   ]
  },
  {
   "cell_type": "code",
   "execution_count": null,
   "id": "962b3820",
   "metadata": {},
   "outputs": [],
   "source": [
    "df['Body'][10]"
   ]
  },
  {
   "cell_type": "code",
   "execution_count": null,
   "id": "6bb16659",
   "metadata": {},
   "outputs": [],
   "source": [
    "df['trans_body'] = df['Body'].apply(trans_text)"
   ]
  },
  {
   "cell_type": "code",
   "execution_count": null,
   "id": "55a38819",
   "metadata": {},
   "outputs": [],
   "source": [
    "df.head()"
   ]
  },
  {
   "cell_type": "code",
   "execution_count": null,
   "id": "f7f6edd2",
   "metadata": {},
   "outputs": [],
   "source": [
    "# generating word cloud for spam messages:"
   ]
  },
  {
   "cell_type": "code",
   "execution_count": null,
   "id": "c6780ba6",
   "metadata": {},
   "outputs": [],
   "source": [
    "!pip install WordCloud"
   ]
  },
  {
   "cell_type": "code",
   "execution_count": null,
   "id": "ed9b6078",
   "metadata": {},
   "outputs": [],
   "source": [
    "from wordcloud import WordCloud"
   ]
  },
  {
   "cell_type": "code",
   "execution_count": null,
   "id": "24d8ec91",
   "metadata": {},
   "outputs": [],
   "source": [
    "pip install --upgrade Pillow"
   ]
  },
  {
   "cell_type": "code",
   "execution_count": null,
   "id": "a6a5daa5",
   "metadata": {},
   "outputs": [],
   "source": [
    "wc = WordCloud (width = 1000, height = 500, min_font_size = 10)"
   ]
  },
  {
   "cell_type": "code",
   "execution_count": null,
   "id": "54f8f1cd",
   "metadata": {},
   "outputs": [],
   "source": [
    "spam_wc = wc.generate(df[df['Label']== 0]['trans_body'].str.cat(sep=' '))\n",
    "plt.figure(figsize=(20,8))\n",
    "plt.imshow(spam_wc)"
   ]
  },
  {
   "cell_type": "code",
   "execution_count": null,
   "id": "47f5989a",
   "metadata": {},
   "outputs": [],
   "source": [
    "# generating word cloud for ham messages:"
   ]
  },
  {
   "cell_type": "code",
   "execution_count": null,
   "id": "c5c0c196",
   "metadata": {},
   "outputs": [],
   "source": [
    "wc = WordCloud (width = 1000, height = 500, min_font_size = 10)"
   ]
  },
  {
   "cell_type": "code",
   "execution_count": null,
   "id": "011a8454",
   "metadata": {},
   "outputs": [],
   "source": [
    "spam_wc = wc.generate(df[df['Label']== 1]['trans_body'].str.cat(sep=' '))\n",
    "plt.figure(figsize=(20,8))\n",
    "plt.imshow(spam_wc)"
   ]
  },
  {
   "cell_type": "code",
   "execution_count": null,
   "id": "0e5b3018",
   "metadata": {},
   "outputs": [],
   "source": [
    "# to find top 30 words:"
   ]
  },
  {
   "cell_type": "code",
   "execution_count": null,
   "id": "f3bae427",
   "metadata": {},
   "outputs": [],
   "source": [
    "df.head()"
   ]
  },
  {
   "cell_type": "code",
   "execution_count": null,
   "id": "9485f5b8",
   "metadata": {},
   "outputs": [],
   "source": [
    "ham_corpus = []\n",
    "for message in df[df['Label']==1]['trans_body'].tolist():\n",
    "    for word in message.split():\n",
    "        ham_corpus.append(word)\n"
   ]
  },
  {
   "cell_type": "code",
   "execution_count": null,
   "id": "fd1b89f5",
   "metadata": {},
   "outputs": [],
   "source": [
    "len(ham_corpus)"
   ]
  },
  {
   "cell_type": "code",
   "execution_count": null,
   "id": "7c4b8886",
   "metadata": {},
   "outputs": [],
   "source": [
    "from collections import Counter\n",
    "\n",
    "sns.barplot(pd.DataFrame(Counter(ham_corpus). most_common(30))[0],pd.DataFrame(Counter(ham_corpus). most_common(30))[1])\n",
    "plt.xticks(rotation = 'vertical')"
   ]
  },
  {
   "cell_type": "code",
   "execution_count": null,
   "id": "6a79e843",
   "metadata": {},
   "outputs": [],
   "source": [
    "spam_corpus = []\n",
    "for message in df[df['Label']==0]['trans_body'].tolist():\n",
    "    for word in message.split():\n",
    "        spam_corpus.append(word)\n"
   ]
  },
  {
   "cell_type": "code",
   "execution_count": null,
   "id": "b0c82e00",
   "metadata": {},
   "outputs": [],
   "source": [
    "len(spam_corpus)"
   ]
  },
  {
   "cell_type": "code",
   "execution_count": null,
   "id": "a15ce3c9",
   "metadata": {},
   "outputs": [],
   "source": [
    "\n",
    "sns.barplot(pd.DataFrame(Counter(spam_corpus). most_common(30))[0],pd.DataFrame(Counter(spam_corpus). most_common(30))[1])\n",
    "plt.xticks(rotation = 'vertical')"
   ]
  },
  {
   "cell_type": "code",
   "execution_count": null,
   "id": "afd8cb38",
   "metadata": {},
   "outputs": [],
   "source": [
    "df['character_num'] = df['trans_body'].apply(len)"
   ]
  },
  {
   "cell_type": "code",
   "execution_count": null,
   "id": "6f00bb64",
   "metadata": {},
   "outputs": [],
   "source": [
    "df.head()"
   ]
  },
  {
   "cell_type": "code",
   "execution_count": null,
   "id": "71e59866",
   "metadata": {},
   "outputs": [],
   "source": [
    "# no. of words in the sms"
   ]
  },
  {
   "cell_type": "code",
   "execution_count": null,
   "id": "a1fee8f7",
   "metadata": {},
   "outputs": [],
   "source": [
    "df['words_num'] = df['trans_body'].apply(lambda x:len(nltk.word_tokenize(x)))"
   ]
  },
  {
   "cell_type": "code",
   "execution_count": null,
   "id": "4aa3d7c1",
   "metadata": {},
   "outputs": [],
   "source": [
    "df.head()"
   ]
  },
  {
   "cell_type": "code",
   "execution_count": null,
   "id": "54e1ac4b",
   "metadata": {},
   "outputs": [],
   "source": [
    "# no. of sentences"
   ]
  },
  {
   "cell_type": "code",
   "execution_count": null,
   "id": "e327a260",
   "metadata": {},
   "outputs": [],
   "source": [
    "df['sent_num'] = df['trans_body'].apply(lambda x:len(nltk.sent_tokenize(x)))"
   ]
  },
  {
   "cell_type": "code",
   "execution_count": null,
   "id": "75827443",
   "metadata": {},
   "outputs": [],
   "source": [
    "df.head()"
   ]
  },
  {
   "cell_type": "code",
   "execution_count": null,
   "id": "ce52731c",
   "metadata": {},
   "outputs": [],
   "source": [
    "df[['character_num','words_num','sent_num']].describe()"
   ]
  },
  {
   "cell_type": "code",
   "execution_count": null,
   "id": "04a9febb",
   "metadata": {},
   "outputs": [],
   "source": [
    "#spam\n",
    "df[df['Label']== 0][['character_num','words_num','sent_num']].describe()"
   ]
  },
  {
   "cell_type": "code",
   "execution_count": null,
   "id": "60b65d4a",
   "metadata": {},
   "outputs": [],
   "source": [
    "# ham\n",
    "df[df['Label']== 1][['character_num','words_num','sent_num']].describe()"
   ]
  },
  {
   "cell_type": "code",
   "execution_count": null,
   "id": "93ce1627",
   "metadata": {},
   "outputs": [],
   "source": [
    "import seaborn as sns"
   ]
  },
  {
   "cell_type": "code",
   "execution_count": null,
   "id": "6ec6edc0",
   "metadata": {},
   "outputs": [],
   "source": [
    "sns.catplot(data = df,x = 'Label',y='character_num')"
   ]
  },
  {
   "cell_type": "code",
   "execution_count": null,
   "id": "59621d6e",
   "metadata": {},
   "outputs": [],
   "source": [
    "sns.catplot(data = df,x = 'Label',y='words_num')"
   ]
  },
  {
   "cell_type": "code",
   "execution_count": null,
   "id": "0e4a8be4",
   "metadata": {},
   "outputs": [],
   "source": [
    "sns.catplot(data = df,x = 'Label',y='sent_num')"
   ]
  },
  {
   "cell_type": "code",
   "execution_count": null,
   "id": "d2179216",
   "metadata": {},
   "outputs": [],
   "source": [
    "sns.pairplot(data = df, hue='Label')"
   ]
  },
  {
   "cell_type": "markdown",
   "id": "23e3c9dd",
   "metadata": {},
   "source": [
    "# model building:"
   ]
  },
  {
   "cell_type": "markdown",
   "id": "9ec8b4b8",
   "metadata": {},
   "source": [
    "model building is done on naive baise algorithm."
   ]
  },
  {
   "cell_type": "markdown",
   "id": "8144db4a",
   "metadata": {},
   "source": [
    "for first step we are vectorizing the data by using bag of words. (coverting th ewords into no.)"
   ]
  },
  {
   "cell_type": "code",
   "execution_count": null,
   "id": "f9d92400",
   "metadata": {},
   "outputs": [],
   "source": [
    "from sklearn.feature_extraction.text import CountVectorizer\n",
    "\n",
    "cv = CountVectorizer()"
   ]
  },
  {
   "cell_type": "code",
   "execution_count": null,
   "id": "01437895",
   "metadata": {},
   "outputs": [],
   "source": [
    "X = cv.fit_transform(df['trans_body']).toarrayay()"
   ]
  },
  {
   "cell_type": "code",
   "execution_count": null,
   "id": "e9fde0a4",
   "metadata": {},
   "outputs": [],
   "source": [
    "X.shape"
   ]
  },
  {
   "cell_type": "code",
   "execution_count": null,
   "id": "027aaac3",
   "metadata": {},
   "outputs": [],
   "source": [
    "y  = df['Label'].values"
   ]
  },
  {
   "cell_type": "code",
   "execution_count": null,
   "id": "a0172c75",
   "metadata": {},
   "outputs": [],
   "source": [
    "y"
   ]
  },
  {
   "cell_type": "code",
   "execution_count": null,
   "id": "fd552d73",
   "metadata": {},
   "outputs": [],
   "source": [
    "from sklearn.model_selection import train_test_split\n",
    "\n",
    "from sklearn.metrics import accuracy_score\n",
    "\n",
    "from sklearn.metrics import confusion_matrix\n",
    "\n",
    "from sklearn.metrics import plot_confusion_matrix\n",
    "\n",
    "from sklearn.metrics import precision_score"
   ]
  },
  {
   "cell_type": "code",
   "execution_count": null,
   "id": "f3e7c919",
   "metadata": {},
   "outputs": [],
   "source": [
    "X_train,X_test,y_train,y_test = train_test_split(X,y,test_size=0.2, random_state = 2)"
   ]
  },
  {
   "cell_type": "code",
   "execution_count": null,
   "id": "a55f6581",
   "metadata": {},
   "outputs": [],
   "source": [
    "from sklearn.naive_bayes import GaussianNB, MultinomialNB, BernoulliNB"
   ]
  },
  {
   "cell_type": "code",
   "execution_count": null,
   "id": "010165f6",
   "metadata": {},
   "outputs": [],
   "source": [
    "gnb = GaussianNB()\n",
    "mnb = MultinomialNB()\n",
    "bnb = BernoulliNB()"
   ]
  },
  {
   "cell_type": "code",
   "execution_count": null,
   "id": "2032545d",
   "metadata": {},
   "outputs": [],
   "source": [
    "gnb.fit(X_train,y_train)\n",
    "y_pred1 = gnb.predict(X_test)\n",
    "print(accuracy_score(y_test, y_pred1))\n",
    "print(confusion_matrix(y_test, y_pred1))\n",
    "print(precision_score(y_test, y_pred1))"
   ]
  },
  {
   "cell_type": "code",
   "execution_count": null,
   "id": "4d07da24",
   "metadata": {},
   "outputs": [],
   "source": [
    "mnb.fit(X_train,y_train)\n",
    "y_pred2 = mnb.predict(X_test)\n",
    "print(accuracy_score(y_test, y_pred2))\n",
    "print(confusion_matrix(y_test, y_pred2))\n",
    "print(precision_score(y_test, y_pred2))"
   ]
  },
  {
   "cell_type": "code",
   "execution_count": null,
   "id": "305127d1",
   "metadata": {},
   "outputs": [],
   "source": [
    "bnb.fit(X_train,y_train)\n",
    "y_pred3 = bnb.predict(X_test)\n",
    "print(accuracy_score(y_test, y_pred3))\n",
    "print(confusion_matrix(y_test, y_pred3))\n",
    "print(precision_score(y_test, y_pred3))"
   ]
  },
  {
   "cell_type": "code",
   "execution_count": null,
   "id": "fbf04908",
   "metadata": {},
   "outputs": [],
   "source": []
  },
  {
   "cell_type": "code",
   "execution_count": null,
   "id": "4156cd79",
   "metadata": {},
   "outputs": [],
   "source": []
  },
  {
   "cell_type": "code",
   "execution_count": null,
   "id": "12eec922",
   "metadata": {},
   "outputs": [],
   "source": []
  },
  {
   "cell_type": "code",
   "execution_count": null,
   "id": "3e194489",
   "metadata": {},
   "outputs": [],
   "source": []
  },
  {
   "cell_type": "code",
   "execution_count": null,
   "id": "d41a4867",
   "metadata": {},
   "outputs": [],
   "source": []
  },
  {
   "cell_type": "code",
   "execution_count": null,
   "id": "33c12cd7",
   "metadata": {},
   "outputs": [],
   "source": []
  },
  {
   "cell_type": "code",
   "execution_count": null,
   "id": "7dd281e3",
   "metadata": {},
   "outputs": [],
   "source": []
  }
 ],
 "metadata": {
  "kernelspec": {
   "display_name": "Python 3 (ipykernel)",
   "language": "python",
   "name": "python3"
  },
  "language_info": {
   "codemirror_mode": {
    "name": "ipython",
    "version": 3
   },
   "file_extension": ".py",
   "mimetype": "text/x-python",
   "name": "python",
   "nbconvert_exporter": "python",
   "pygments_lexer": "ipython3",
   "version": "3.9.12"
  }
 },
 "nbformat": 4,
 "nbformat_minor": 5
}
